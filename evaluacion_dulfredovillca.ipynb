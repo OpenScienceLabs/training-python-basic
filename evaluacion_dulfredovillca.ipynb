{
 "cells": [
  {
   "cell_type": "markdown",
   "id": "e9052e8a-ce7e-456f-a2d5-7812ef4dc5bd",
   "metadata": {},
   "source": [
    "## Evaluación\n",
    "Completa lo que falta.\n"
   ]
  },
  {
   "cell_type": "code",
   "execution_count": 5,
   "id": "0f311f12-3e2d-4ae7-9443-c723dc383f0e",
   "metadata": {},
   "outputs": [
    {
     "name": "stdout",
     "output_type": "stream",
     "text": [
      "Requirement already satisfied: pandas in c:\\users\\admin\\anaconda3\\lib\\site-packages (1.2.4)\n",
      "Requirement already satisfied: python-dateutil>=2.7.3 in c:\\users\\admin\\anaconda3\\lib\\site-packages (from pandas) (2.8.1)\n",
      "Requirement already satisfied: numpy>=1.16.5 in c:\\users\\admin\\anaconda3\\lib\\site-packages (from pandas) (1.19.2)\n",
      "Requirement already satisfied: pytz>=2017.3 in c:\\users\\admin\\anaconda3\\lib\\site-packages (from pandas) (2021.1)\n",
      "Requirement already satisfied: six>=1.5 in c:\\users\\admin\\anaconda3\\lib\\site-packages (from python-dateutil>=2.7.3->pandas) (1.15.0)\n",
      "Requirement already satisfied: matplotlib in c:\\users\\admin\\anaconda3\\lib\\site-packages (3.3.4)\n",
      "Requirement already satisfied: kiwisolver>=1.0.1 in c:\\users\\admin\\anaconda3\\lib\\site-packages (from matplotlib) (1.3.1)\n",
      "Requirement already satisfied: python-dateutil>=2.1 in c:\\users\\admin\\anaconda3\\lib\\site-packages (from matplotlib) (2.8.1)\n",
      "Requirement already satisfied: cycler>=0.10 in c:\\users\\admin\\anaconda3\\lib\\site-packages (from matplotlib) (0.10.0)\n",
      "Requirement already satisfied: pillow>=6.2.0 in c:\\users\\admin\\anaconda3\\lib\\site-packages (from matplotlib) (8.2.0)\n",
      "Requirement already satisfied: pyparsing!=2.0.4,!=2.1.2,!=2.1.6,>=2.0.3 in c:\\users\\admin\\anaconda3\\lib\\site-packages (from matplotlib) (2.4.7)\n",
      "Requirement already satisfied: numpy>=1.15 in c:\\users\\admin\\anaconda3\\lib\\site-packages (from matplotlib) (1.19.2)\n",
      "Requirement already satisfied: six in c:\\users\\admin\\anaconda3\\lib\\site-packages (from cycler>=0.10->matplotlib) (1.15.0)\n",
      "Requirement already satisfied: pandas-datareader in c:\\users\\admin\\anaconda3\\lib\\site-packages (0.10.0)\n",
      "Requirement already satisfied: requests>=2.19.0 in c:\\users\\admin\\anaconda3\\lib\\site-packages (from pandas-datareader) (2.25.1)\n",
      "Requirement already satisfied: pandas>=0.23 in c:\\users\\admin\\anaconda3\\lib\\site-packages (from pandas-datareader) (1.2.4)\n",
      "Requirement already satisfied: lxml in c:\\users\\admin\\anaconda3\\lib\\site-packages (from pandas-datareader) (4.6.3)\n",
      "Requirement already satisfied: pytz>=2017.3 in c:\\users\\admin\\anaconda3\\lib\\site-packages (from pandas>=0.23->pandas-datareader) (2021.1)\n",
      "Requirement already satisfied: python-dateutil>=2.7.3 in c:\\users\\admin\\anaconda3\\lib\\site-packages (from pandas>=0.23->pandas-datareader) (2.8.1)\n",
      "Requirement already satisfied: numpy>=1.16.5 in c:\\users\\admin\\anaconda3\\lib\\site-packages (from pandas>=0.23->pandas-datareader) (1.19.2)\n",
      "Requirement already satisfied: six>=1.5 in c:\\users\\admin\\anaconda3\\lib\\site-packages (from python-dateutil>=2.7.3->pandas>=0.23->pandas-datareader) (1.15.0)\n",
      "Requirement already satisfied: idna<3,>=2.5 in c:\\users\\admin\\anaconda3\\lib\\site-packages (from requests>=2.19.0->pandas-datareader) (2.10)\n",
      "Requirement already satisfied: chardet<5,>=3.0.2 in c:\\users\\admin\\anaconda3\\lib\\site-packages (from requests>=2.19.0->pandas-datareader) (4.0.0)\n",
      "Requirement already satisfied: urllib3<1.27,>=1.21.1 in c:\\users\\admin\\anaconda3\\lib\\site-packages (from requests>=2.19.0->pandas-datareader) (1.26.4)\n",
      "Requirement already satisfied: certifi>=2017.4.17 in c:\\users\\admin\\anaconda3\\lib\\site-packages (from requests>=2.19.0->pandas-datareader) (2020.12.5)\n"
     ]
    }
   ],
   "source": [
    "# instalacion\n",
    "!pip install pandas\n",
    "!pip install matplotlib\n",
    "!pip install pandas-datareader"
   ]
  },
  {
   "cell_type": "code",
   "execution_count": 7,
   "id": "c4e2c69e-0097-4f05-97fb-3bb59273a644",
   "metadata": {},
   "outputs": [
    {
     "ename": "ImportError",
     "evalue": "DLL load failed while importing ft2font: No se encontró el proceso especificado.",
     "output_type": "error",
     "traceback": [
      "\u001b[1;31m---------------------------------------------------------------------------\u001b[0m",
      "\u001b[1;31mImportError\u001b[0m                               Traceback (most recent call last)",
      "\u001b[1;32m<ipython-input-7-5a70b674cdfa>\u001b[0m in \u001b[0;36m<module>\u001b[1;34m\u001b[0m\n\u001b[0;32m      2\u001b[0m \u001b[1;32mimport\u001b[0m \u001b[0mpandas\u001b[0m \u001b[1;32mas\u001b[0m \u001b[0mpd\u001b[0m\u001b[1;33m\u001b[0m\u001b[1;33m\u001b[0m\u001b[0m\n\u001b[0;32m      3\u001b[0m \u001b[1;32mimport\u001b[0m \u001b[0mpandas_datareader\u001b[0m\u001b[1;33m.\u001b[0m\u001b[0mdata\u001b[0m \u001b[1;32mas\u001b[0m \u001b[0mweb\u001b[0m\u001b[1;33m\u001b[0m\u001b[1;33m\u001b[0m\u001b[0m\n\u001b[1;32m----> 4\u001b[1;33m \u001b[1;32mimport\u001b[0m \u001b[0mmatplotlib\u001b[0m\u001b[1;33m.\u001b[0m\u001b[0mpyplot\u001b[0m \u001b[1;32mas\u001b[0m \u001b[0mplt\u001b[0m\u001b[1;33m\u001b[0m\u001b[1;33m\u001b[0m\u001b[0m\n\u001b[0m",
      "\u001b[1;32m~\\anaconda3\\lib\\site-packages\\matplotlib\\__init__.py\u001b[0m in \u001b[0;36m<module>\u001b[1;34m\u001b[0m\n\u001b[0;32m    172\u001b[0m \u001b[1;33m\u001b[0m\u001b[0m\n\u001b[0;32m    173\u001b[0m \u001b[1;33m\u001b[0m\u001b[0m\n\u001b[1;32m--> 174\u001b[1;33m \u001b[0m_check_versions\u001b[0m\u001b[1;33m(\u001b[0m\u001b[1;33m)\u001b[0m\u001b[1;33m\u001b[0m\u001b[1;33m\u001b[0m\u001b[0m\n\u001b[0m\u001b[0;32m    175\u001b[0m \u001b[1;33m\u001b[0m\u001b[0m\n\u001b[0;32m    176\u001b[0m \u001b[1;33m\u001b[0m\u001b[0m\n",
      "\u001b[1;32m~\\anaconda3\\lib\\site-packages\\matplotlib\\__init__.py\u001b[0m in \u001b[0;36m_check_versions\u001b[1;34m()\u001b[0m\n\u001b[0;32m    157\u001b[0m     \u001b[1;31m# Quickfix to ensure Microsoft Visual C++ redistributable\u001b[0m\u001b[1;33m\u001b[0m\u001b[1;33m\u001b[0m\u001b[1;33m\u001b[0m\u001b[0m\n\u001b[0;32m    158\u001b[0m     \u001b[1;31m# DLLs are loaded before importing kiwisolver\u001b[0m\u001b[1;33m\u001b[0m\u001b[1;33m\u001b[0m\u001b[1;33m\u001b[0m\u001b[0m\n\u001b[1;32m--> 159\u001b[1;33m     \u001b[1;32mfrom\u001b[0m \u001b[1;33m.\u001b[0m \u001b[1;32mimport\u001b[0m \u001b[0mft2font\u001b[0m\u001b[1;33m\u001b[0m\u001b[1;33m\u001b[0m\u001b[0m\n\u001b[0m\u001b[0;32m    160\u001b[0m \u001b[1;33m\u001b[0m\u001b[0m\n\u001b[0;32m    161\u001b[0m     for modname, minver in [\n",
      "\u001b[1;31mImportError\u001b[0m: DLL load failed while importing ft2font: No se encontró el proceso especificado."
     ]
    }
   ],
   "source": [
    "# 1 importa las bibliotecas\n",
    "import pandas as pd\n",
    "import pandas_datareader.data as web\n",
    "import matplotlib.pyplot as plt"
   ]
  },
  {
   "cell_type": "code",
   "execution_count": null,
   "id": "6cb70231-1b2b-4ba5-807f-513f348a4d5d",
   "metadata": {},
   "outputs": [],
   "source": [
    "# 2. Establecer una fecha de inicio \"2020-01-01\" y una fecha de finalización \"2021-08-31\"\n",
    "\n",
    "start_date = '2020-01-01'\n",
    "\n",
    "end_date = '2021-08-31'"
   ]
  },
  {
   "cell_type": "code",
   "execution_count": 5,
   "id": "b7e243d4-8314-486e-88e7-a4890010ec2a",
   "metadata": {},
   "outputs": [
    {
     "data": {
      "text/html": [
       "<div>\n",
       "<style scoped>\n",
       "    .dataframe tbody tr th:only-of-type {\n",
       "        vertical-align: middle;\n",
       "    }\n",
       "\n",
       "    .dataframe tbody tr th {\n",
       "        vertical-align: top;\n",
       "    }\n",
       "\n",
       "    .dataframe thead th {\n",
       "        text-align: right;\n",
       "    }\n",
       "</style>\n",
       "<table border=\"1\" class=\"dataframe\">\n",
       "  <thead>\n",
       "    <tr style=\"text-align: right;\">\n",
       "      <th></th>\n",
       "      <th>High</th>\n",
       "      <th>Low</th>\n",
       "      <th>Open</th>\n",
       "      <th>Close</th>\n",
       "      <th>Volume</th>\n",
       "      <th>Adj Close</th>\n",
       "    </tr>\n",
       "    <tr>\n",
       "      <th>Date</th>\n",
       "      <th></th>\n",
       "      <th></th>\n",
       "      <th></th>\n",
       "      <th></th>\n",
       "      <th></th>\n",
       "      <th></th>\n",
       "    </tr>\n",
       "  </thead>\n",
       "  <tbody>\n",
       "    <tr>\n",
       "      <th>2020-01-02</th>\n",
       "      <td>209.789993</td>\n",
       "      <td>206.270004</td>\n",
       "      <td>206.750000</td>\n",
       "      <td>209.779999</td>\n",
       "      <td>12077100</td>\n",
       "      <td>209.779999</td>\n",
       "    </tr>\n",
       "    <tr>\n",
       "      <th>2020-01-03</th>\n",
       "      <td>210.399994</td>\n",
       "      <td>206.949997</td>\n",
       "      <td>207.210007</td>\n",
       "      <td>208.669998</td>\n",
       "      <td>11188400</td>\n",
       "      <td>208.669998</td>\n",
       "    </tr>\n",
       "    <tr>\n",
       "      <th>2020-01-06</th>\n",
       "      <td>212.779999</td>\n",
       "      <td>206.520004</td>\n",
       "      <td>206.699997</td>\n",
       "      <td>212.600006</td>\n",
       "      <td>17058900</td>\n",
       "      <td>212.600006</td>\n",
       "    </tr>\n",
       "    <tr>\n",
       "      <th>2020-01-07</th>\n",
       "      <td>214.580002</td>\n",
       "      <td>211.750000</td>\n",
       "      <td>212.820007</td>\n",
       "      <td>213.059998</td>\n",
       "      <td>14912400</td>\n",
       "      <td>213.059998</td>\n",
       "    </tr>\n",
       "    <tr>\n",
       "      <th>2020-01-08</th>\n",
       "      <td>216.240005</td>\n",
       "      <td>212.610001</td>\n",
       "      <td>213.000000</td>\n",
       "      <td>215.220001</td>\n",
       "      <td>13475000</td>\n",
       "      <td>215.220001</td>\n",
       "    </tr>\n",
       "    <tr>\n",
       "      <th>...</th>\n",
       "      <td>...</td>\n",
       "      <td>...</td>\n",
       "      <td>...</td>\n",
       "      <td>...</td>\n",
       "      <td>...</td>\n",
       "      <td>...</td>\n",
       "    </tr>\n",
       "    <tr>\n",
       "      <th>2021-08-25</th>\n",
       "      <td>370.859985</td>\n",
       "      <td>365.399994</td>\n",
       "      <td>365.600006</td>\n",
       "      <td>368.390015</td>\n",
       "      <td>9684500</td>\n",
       "      <td>368.390015</td>\n",
       "    </tr>\n",
       "    <tr>\n",
       "      <th>2021-08-26</th>\n",
       "      <td>369.440002</td>\n",
       "      <td>364.130005</td>\n",
       "      <td>368.380005</td>\n",
       "      <td>364.380005</td>\n",
       "      <td>7888700</td>\n",
       "      <td>364.380005</td>\n",
       "    </tr>\n",
       "    <tr>\n",
       "      <th>2021-08-27</th>\n",
       "      <td>373.739990</td>\n",
       "      <td>364.079987</td>\n",
       "      <td>365.100006</td>\n",
       "      <td>372.630005</td>\n",
       "      <td>11214200</td>\n",
       "      <td>372.630005</td>\n",
       "    </tr>\n",
       "    <tr>\n",
       "      <th>2021-08-30</th>\n",
       "      <td>381.489990</td>\n",
       "      <td>370.519989</td>\n",
       "      <td>372.559998</td>\n",
       "      <td>380.660004</td>\n",
       "      <td>13547300</td>\n",
       "      <td>380.660004</td>\n",
       "    </tr>\n",
       "    <tr>\n",
       "      <th>2021-08-31</th>\n",
       "      <td>382.760010</td>\n",
       "      <td>378.799988</td>\n",
       "      <td>379.950012</td>\n",
       "      <td>379.380005</td>\n",
       "      <td>12345400</td>\n",
       "      <td>379.380005</td>\n",
       "    </tr>\n",
       "  </tbody>\n",
       "</table>\n",
       "<p>420 rows × 6 columns</p>\n",
       "</div>"
      ],
      "text/plain": [
       "                  High         Low        Open       Close    Volume  \\\n",
       "Date                                                                   \n",
       "2020-01-02  209.789993  206.270004  206.750000  209.779999  12077100   \n",
       "2020-01-03  210.399994  206.949997  207.210007  208.669998  11188400   \n",
       "2020-01-06  212.779999  206.520004  206.699997  212.600006  17058900   \n",
       "2020-01-07  214.580002  211.750000  212.820007  213.059998  14912400   \n",
       "2020-01-08  216.240005  212.610001  213.000000  215.220001  13475000   \n",
       "...                ...         ...         ...         ...       ...   \n",
       "2021-08-25  370.859985  365.399994  365.600006  368.390015   9684500   \n",
       "2021-08-26  369.440002  364.130005  368.380005  364.380005   7888700   \n",
       "2021-08-27  373.739990  364.079987  365.100006  372.630005  11214200   \n",
       "2021-08-30  381.489990  370.519989  372.559998  380.660004  13547300   \n",
       "2021-08-31  382.760010  378.799988  379.950012  379.380005  12345400   \n",
       "\n",
       "             Adj Close  \n",
       "Date                    \n",
       "2020-01-02  209.779999  \n",
       "2020-01-03  208.669998  \n",
       "2020-01-06  212.600006  \n",
       "2020-01-07  213.059998  \n",
       "2020-01-08  215.220001  \n",
       "...                ...  \n",
       "2021-08-25  368.390015  \n",
       "2021-08-26  364.380005  \n",
       "2021-08-27  372.630005  \n",
       "2021-08-30  380.660004  \n",
       "2021-08-31  379.380005  \n",
       "\n",
       "[420 rows x 6 columns]"
      ]
     },
     "execution_count": 5,
     "metadata": {},
     "output_type": "execute_result"
    }
   ],
   "source": [
    "# 3.Usar el método del lector de datos para almacenar los datos\n",
    "# del precio de las acciones de facebook ('FB') en un DataFrame llamado data.\n",
    "# https://finance.yahoo.com/quote/FB/history?p=FB\n",
    "data = web.DataReader(name='FB', data_source='yahoo', start=start_date, end=end_date)\n",
    "data\n",
    "# La salida se ve igual a la que leemos en cualquier archivo CSV."
   ]
  },
  {
   "cell_type": "code",
   "execution_count": null,
   "id": "838b49d7-0894-4cbd-913f-ce2c84196e58",
   "metadata": {},
   "outputs": [],
   "source": [
    "# 4. Explica el resultado."
   ]
  },
  {
   "cell_type": "markdown",
   "id": "946945e9-ad75-4d87-b6be-ab73928f15d9",
   "metadata": {},
   "source": [
    "\n",
    "* La acción del precio es un método de negociación bursátil consistente en el análisis de los movimientos básicos del precio, para generar señales de entrada y salida en las operaciones y que se destaca por su fiabilidad y por no requerir el uso de indicadores. Si hay mucha demanda de una determinada acción, significa que muchos inversores desean comprarla, por lo que su precio subirá, mientras que si son muchos los que quieren vender esta acción, su valor disminuirá hasta que la oferta de acciones encuentre un precio de equilibrio con la demanda de dichas acciones, de ahí la importancia de entender los movimientos del precio, si suben o bajan.\n",
    "\n",
    "* Los precios de las acciones se mueven constantemente a lo largo del día de trading a medida que la oferta y la demanda de acciones cambian (precio mas alto o mas bajo). Cuando el mercado cierra, se registra el precio final de la acción. El precio de una acción, lo que realmente vale en un momento concreto, se determinará en función de la negociación en el mercado, según lo que los compradores estén dispuestos a pagar y lo que los vendedores pidan por ellas, dando así origen al valor de cotización.\n",
    "\n",
    "* EL precio de Apertura: Precio con el que un Valor inicia sus transacciones en una sesión bursátil. Normalmente este precio no tiene gran diferencia con el precio de cierre (salvo algun acontecimiento importante). Es el precio al que comienza la negociación de un activo financiero en una sesión en el mercado financiero o de valores.\n",
    "\n",
    "* El precio de cierre: Es la última cotización que registró durante el día en el mercado bursátil de un determinado título financiero. Nos podemos referir a la acción de una empresa, un índice, la moneda local u otro activo similar. Con la aparición del mercado continuo, es cada vez más frecuente usar como precio de cierre el precio medio de ese valor.\n",
    "\n",
    "* El precio de cierre ajustado representa el precio de cierre preciso basado en acciones corporativas. Por ejemplo, si el precio de cierre de las acciones de la empresa ABC era de USD 21.90 pero se pagaron dividendos de 100 centimos por accion, el precio de cierre se ajustara a USD 20.90. Es el precio resultante de aplicar al precio de cierre de una acción, el valor que implique el ejercicio de un derecho corporativo o patrimonial decretado por la emisora en cuestión. El precio ajustado es calculado por la Bolsa.\n",
    "\n",
    "* El volumen mide la cantidad de acciones que se han comprado y vendido en un periodo determinado para una accion en concreto en este caso (FB). Se debe analizar el volumen en relacion a los volumenes anteriores, si suben o bajan. Se refiere al número de acciones que han cambiado de manos a lo largo de dicho período de tiempo."
   ]
  },
  {
   "cell_type": "code",
   "execution_count": 6,
   "id": "0ddc586e-e22e-4eca-b46a-c2441e380f2a",
   "metadata": {},
   "outputs": [
    {
     "name": "stdout",
     "output_type": "stream",
     "text": [
      "<class 'pandas.core.frame.DataFrame'>\n",
      "DatetimeIndex: 420 entries, 2020-01-02 to 2021-08-31\n",
      "Data columns (total 6 columns):\n",
      " #   Column     Non-Null Count  Dtype  \n",
      "---  ------     --------------  -----  \n",
      " 0   High       420 non-null    float64\n",
      " 1   Low        420 non-null    float64\n",
      " 2   Open       420 non-null    float64\n",
      " 3   Close      420 non-null    float64\n",
      " 4   Volume     420 non-null    int64  \n",
      " 5   Adj Close  420 non-null    float64\n",
      "dtypes: float64(5), int64(1)\n",
      "memory usage: 23.0 KB\n",
      "             High         Low        Open       Close        Volume  \\\n",
      "count  420.000000  420.000000  420.000000  420.000000  4.200000e+02   \n",
      "mean   268.644119  261.465119  264.933405  265.200572  2.054227e+07   \n",
      "std     53.660559   53.598829   53.544644   53.645263  9.516360e+06   \n",
      "min    148.179993  137.100006  139.750000  146.009995  6.702000e+06   \n",
      "25%    231.652504  224.375000  228.897499  229.762501  1.431570e+07   \n",
      "50%    270.294998  263.635010  267.335007  266.639999  1.833855e+07   \n",
      "75%    302.672501  296.180008  299.200005  301.215004  2.426475e+07   \n",
      "max    382.760010  378.799988  379.950012  380.660004  7.634390e+07   \n",
      "\n",
      "        Adj Close  \n",
      "count  420.000000  \n",
      "mean   265.200572  \n",
      "std     53.645263  \n",
      "min    146.009995  \n",
      "25%    229.762501  \n",
      "50%    266.639999  \n",
      "75%    301.215004  \n",
      "max    380.660004  \n"
     ]
    }
   ],
   "source": [
    "# 5. Muestre un resumen de la información básica sobre este DataFrame y sus datos \n",
    "# use la funcion dataFrame.info() y dataFrame.describe()\n",
    "data.info()\n",
    "print(data.describe())"
   ]
  },
  {
   "cell_type": "code",
   "execution_count": 7,
   "id": "2bcb73ef-2820-4419-9b0c-9f74fe69b374",
   "metadata": {},
   "outputs": [
    {
     "name": "stdout",
     "output_type": "stream",
     "text": [
      "                  High         Low        Open       Close    Volume  \\\n",
      "Date                                                                   \n",
      "2020-01-02  209.789993  206.270004  206.750000  209.779999  12077100   \n",
      "2020-01-03  210.399994  206.949997  207.210007  208.669998  11188400   \n",
      "2020-01-06  212.779999  206.520004  206.699997  212.600006  17058900   \n",
      "2020-01-07  214.580002  211.750000  212.820007  213.059998  14912400   \n",
      "2020-01-08  216.240005  212.610001  213.000000  215.220001  13475000   \n",
      "\n",
      "             Adj Close  \n",
      "Date                    \n",
      "2020-01-02  209.779999  \n",
      "2020-01-03  208.669998  \n",
      "2020-01-06  212.600006  \n",
      "2020-01-07  213.059998  \n",
      "2020-01-08  215.220001  \n"
     ]
    }
   ],
   "source": [
    "# 6. Devuelve las primeras 5 filas del DataFrame con dataFrame.head() o dataFrame.iloc[]\n",
    "data.head(n=5)\n",
    "print(data.iloc[:5])"
   ]
  },
  {
   "cell_type": "code",
   "execution_count": 12,
   "id": "706df7d7-bb92-4da3-bee6-95097227e982",
   "metadata": {},
   "outputs": [
    {
     "data": {
      "text/html": [
       "<div>\n",
       "<style scoped>\n",
       "    .dataframe tbody tr th:only-of-type {\n",
       "        vertical-align: middle;\n",
       "    }\n",
       "\n",
       "    .dataframe tbody tr th {\n",
       "        vertical-align: top;\n",
       "    }\n",
       "\n",
       "    .dataframe thead th {\n",
       "        text-align: right;\n",
       "    }\n",
       "</style>\n",
       "<table border=\"1\" class=\"dataframe\">\n",
       "  <thead>\n",
       "    <tr style=\"text-align: right;\">\n",
       "      <th></th>\n",
       "      <th>Open</th>\n",
       "      <th>Close</th>\n",
       "      <th>Volume</th>\n",
       "    </tr>\n",
       "    <tr>\n",
       "      <th>Date</th>\n",
       "      <th></th>\n",
       "      <th></th>\n",
       "      <th></th>\n",
       "    </tr>\n",
       "  </thead>\n",
       "  <tbody>\n",
       "    <tr>\n",
       "      <th>2020-01-02</th>\n",
       "      <td>206.750000</td>\n",
       "      <td>209.779999</td>\n",
       "      <td>12077100</td>\n",
       "    </tr>\n",
       "    <tr>\n",
       "      <th>2020-01-03</th>\n",
       "      <td>207.210007</td>\n",
       "      <td>208.669998</td>\n",
       "      <td>11188400</td>\n",
       "    </tr>\n",
       "    <tr>\n",
       "      <th>2020-01-06</th>\n",
       "      <td>206.699997</td>\n",
       "      <td>212.600006</td>\n",
       "      <td>17058900</td>\n",
       "    </tr>\n",
       "    <tr>\n",
       "      <th>2020-01-07</th>\n",
       "      <td>212.820007</td>\n",
       "      <td>213.059998</td>\n",
       "      <td>14912400</td>\n",
       "    </tr>\n",
       "    <tr>\n",
       "      <th>2020-01-08</th>\n",
       "      <td>213.000000</td>\n",
       "      <td>215.220001</td>\n",
       "      <td>13475000</td>\n",
       "    </tr>\n",
       "    <tr>\n",
       "      <th>...</th>\n",
       "      <td>...</td>\n",
       "      <td>...</td>\n",
       "      <td>...</td>\n",
       "    </tr>\n",
       "    <tr>\n",
       "      <th>2021-08-25</th>\n",
       "      <td>365.600006</td>\n",
       "      <td>368.390015</td>\n",
       "      <td>9684500</td>\n",
       "    </tr>\n",
       "    <tr>\n",
       "      <th>2021-08-26</th>\n",
       "      <td>368.380005</td>\n",
       "      <td>364.380005</td>\n",
       "      <td>7888700</td>\n",
       "    </tr>\n",
       "    <tr>\n",
       "      <th>2021-08-27</th>\n",
       "      <td>365.100006</td>\n",
       "      <td>372.630005</td>\n",
       "      <td>11214200</td>\n",
       "    </tr>\n",
       "    <tr>\n",
       "      <th>2021-08-30</th>\n",
       "      <td>372.559998</td>\n",
       "      <td>380.660004</td>\n",
       "      <td>13547300</td>\n",
       "    </tr>\n",
       "    <tr>\n",
       "      <th>2021-08-31</th>\n",
       "      <td>379.950012</td>\n",
       "      <td>379.380005</td>\n",
       "      <td>12345400</td>\n",
       "    </tr>\n",
       "  </tbody>\n",
       "</table>\n",
       "<p>420 rows × 3 columns</p>\n",
       "</div>"
      ],
      "text/plain": [
       "                  Open       Close    Volume\n",
       "Date                                        \n",
       "2020-01-02  206.750000  209.779999  12077100\n",
       "2020-01-03  207.210007  208.669998  11188400\n",
       "2020-01-06  206.699997  212.600006  17058900\n",
       "2020-01-07  212.820007  213.059998  14912400\n",
       "2020-01-08  213.000000  215.220001  13475000\n",
       "...                ...         ...       ...\n",
       "2021-08-25  365.600006  368.390015   9684500\n",
       "2021-08-26  368.380005  364.380005   7888700\n",
       "2021-08-27  365.100006  372.630005  11214200\n",
       "2021-08-30  372.559998  380.660004  13547300\n",
       "2021-08-31  379.950012  379.380005  12345400\n",
       "\n",
       "[420 rows x 3 columns]"
      ]
     },
     "execution_count": 12,
     "metadata": {},
     "output_type": "execute_result"
    }
   ],
   "source": [
    "# 7. Seleccione solo las columnas 'Open','Close' y 'Volume' del DataFrame con dataFrame.loc\n",
    "data.loc[:, ['Open', 'Close', 'Volume']]"
   ]
  },
  {
   "cell_type": "code",
   "execution_count": 13,
   "id": "550a7449-0c7f-4566-a070-b465e7d53237",
   "metadata": {},
   "outputs": [
    {
     "data": {
      "text/plain": [
       "(Timestamp('2020-01-02 00:00:00'), Timestamp('2021-08-31 00:00:00'))"
      ]
     },
     "execution_count": 13,
     "metadata": {},
     "output_type": "execute_result"
    }
   ],
   "source": [
    "# Ver el rango de lo datos\n",
    "data.index.min(), data.index.max()"
   ]
  },
  {
   "cell_type": "code",
   "execution_count": 10,
   "id": "55c73f18-eb44-475b-877a-52668214f301",
   "metadata": {},
   "outputs": [
    {
     "ename": "ImportError",
     "evalue": "matplotlib is required for plotting when the default backend \"matplotlib\" is selected.",
     "output_type": "error",
     "traceback": [
      "\u001b[1;31m---------------------------------------------------------------------------\u001b[0m",
      "\u001b[1;31mImportError\u001b[0m                               Traceback (most recent call last)",
      "\u001b[1;32m<ipython-input-10-efdb9a77af96>\u001b[0m in \u001b[0;36m<module>\u001b[1;34m\u001b[0m\n\u001b[0;32m      3\u001b[0m \u001b[1;33m\u001b[0m\u001b[0m\n\u001b[0;32m      4\u001b[0m \u001b[0mclose\u001b[0m \u001b[1;33m=\u001b[0m \u001b[0mdata\u001b[0m\u001b[1;33m[\u001b[0m\u001b[1;34m'Close'\u001b[0m\u001b[1;33m]\u001b[0m\u001b[1;33m\u001b[0m\u001b[1;33m\u001b[0m\u001b[0m\n\u001b[1;32m----> 5\u001b[1;33m \u001b[0max\u001b[0m \u001b[1;33m=\u001b[0m \u001b[0mclose\u001b[0m\u001b[1;33m.\u001b[0m\u001b[0mplot\u001b[0m\u001b[1;33m(\u001b[0m\u001b[0mtitle\u001b[0m\u001b[1;33m=\u001b[0m\u001b[1;34m'Facebook'\u001b[0m\u001b[1;33m,\u001b[0m \u001b[0mlinestyle\u001b[0m\u001b[1;33m=\u001b[0m\u001b[1;34m'-'\u001b[0m\u001b[1;33m,\u001b[0m \u001b[0mcolor\u001b[0m\u001b[1;33m=\u001b[0m\u001b[1;34m'r'\u001b[0m\u001b[1;33m)\u001b[0m\u001b[1;33m\u001b[0m\u001b[1;33m\u001b[0m\u001b[0m\n\u001b[0m\u001b[0;32m      6\u001b[0m \u001b[0max\u001b[0m\u001b[1;33m.\u001b[0m\u001b[0mset_xlabel\u001b[0m\u001b[1;33m(\u001b[0m\u001b[1;34m'Date'\u001b[0m\u001b[1;33m)\u001b[0m\u001b[1;33m\u001b[0m\u001b[1;33m\u001b[0m\u001b[0m\n\u001b[0;32m      7\u001b[0m \u001b[0max\u001b[0m\u001b[1;33m.\u001b[0m\u001b[0mset_ylabel\u001b[0m\u001b[1;33m(\u001b[0m\u001b[1;34m'Close'\u001b[0m\u001b[1;33m)\u001b[0m\u001b[1;33m\u001b[0m\u001b[1;33m\u001b[0m\u001b[0m\n",
      "\u001b[1;32m~\\anaconda3\\lib\\site-packages\\pandas\\plotting\\_core.py\u001b[0m in \u001b[0;36m__call__\u001b[1;34m(self, *args, **kwargs)\u001b[0m\n\u001b[0;32m    873\u001b[0m \u001b[1;33m\u001b[0m\u001b[0m\n\u001b[0;32m    874\u001b[0m     \u001b[1;32mdef\u001b[0m \u001b[0m__call__\u001b[0m\u001b[1;33m(\u001b[0m\u001b[0mself\u001b[0m\u001b[1;33m,\u001b[0m \u001b[1;33m*\u001b[0m\u001b[0margs\u001b[0m\u001b[1;33m,\u001b[0m \u001b[1;33m**\u001b[0m\u001b[0mkwargs\u001b[0m\u001b[1;33m)\u001b[0m\u001b[1;33m:\u001b[0m\u001b[1;33m\u001b[0m\u001b[1;33m\u001b[0m\u001b[0m\n\u001b[1;32m--> 875\u001b[1;33m         \u001b[0mplot_backend\u001b[0m \u001b[1;33m=\u001b[0m \u001b[0m_get_plot_backend\u001b[0m\u001b[1;33m(\u001b[0m\u001b[0mkwargs\u001b[0m\u001b[1;33m.\u001b[0m\u001b[0mpop\u001b[0m\u001b[1;33m(\u001b[0m\u001b[1;34m\"backend\"\u001b[0m\u001b[1;33m,\u001b[0m \u001b[1;32mNone\u001b[0m\u001b[1;33m)\u001b[0m\u001b[1;33m)\u001b[0m\u001b[1;33m\u001b[0m\u001b[1;33m\u001b[0m\u001b[0m\n\u001b[0m\u001b[0;32m    876\u001b[0m \u001b[1;33m\u001b[0m\u001b[0m\n\u001b[0;32m    877\u001b[0m         x, y, kind, kwargs = self._get_call_args(\n",
      "\u001b[1;32m~\\anaconda3\\lib\\site-packages\\pandas\\plotting\\_core.py\u001b[0m in \u001b[0;36m_get_plot_backend\u001b[1;34m(backend)\u001b[0m\n\u001b[0;32m   1784\u001b[0m             \u001b[1;32mimport\u001b[0m \u001b[0mpandas\u001b[0m\u001b[1;33m.\u001b[0m\u001b[0mplotting\u001b[0m\u001b[1;33m.\u001b[0m\u001b[0m_matplotlib\u001b[0m \u001b[1;32mas\u001b[0m \u001b[0mmodule\u001b[0m\u001b[1;33m\u001b[0m\u001b[1;33m\u001b[0m\u001b[0m\n\u001b[0;32m   1785\u001b[0m         \u001b[1;32mexcept\u001b[0m \u001b[0mImportError\u001b[0m\u001b[1;33m:\u001b[0m\u001b[1;33m\u001b[0m\u001b[1;33m\u001b[0m\u001b[0m\n\u001b[1;32m-> 1786\u001b[1;33m             raise ImportError(\n\u001b[0m\u001b[0;32m   1787\u001b[0m                 \u001b[1;34m\"matplotlib is required for plotting when the \"\u001b[0m\u001b[1;33m\u001b[0m\u001b[1;33m\u001b[0m\u001b[0m\n\u001b[0;32m   1788\u001b[0m                 \u001b[1;34m'default backend \"matplotlib\" is selected.'\u001b[0m\u001b[1;33m\u001b[0m\u001b[1;33m\u001b[0m\u001b[0m\n",
      "\u001b[1;31mImportError\u001b[0m: matplotlib is required for plotting when the default backend \"matplotlib\" is selected."
     ]
    }
   ],
   "source": [
    "# 8. Ahora grafica los datos de \"Close\" usando la biblioteca matplotlib en Python, \n",
    "# 9. Agrega title, marker, linestyle y color para mejorar la visualizacion\n",
    "\n",
    "close = data['Close']\n",
    "ax = close.plot(title='Facebook', linestyle='-', color='r')\n",
    "ax.set_xlabel('Date')\n",
    "ax.set_ylabel('Close')\n",
    "ax.grid() #opcional\n",
    "plt.show()\n"
   ]
  },
  {
   "cell_type": "code",
   "execution_count": null,
   "id": "ebaa4d03-d78b-4589-b4e7-1c626326e2d5",
   "metadata": {},
   "outputs": [],
   "source": [
    "# 10. Explica la grafica sencilla de linea"
   ]
  },
  {
   "cell_type": "markdown",
   "id": "d28c72cd-6a29-4d34-abef-9ca734fe55f2",
   "metadata": {},
   "source": [
    "* Un gráfico de cierre es un tipo de gráfico que se utiliza normalmente para ilustrar los movimientos en el precio de un instrumento financiero a lo largo del tiempo.\n",
    "* Contituye una serie de tiempo, pues se trata de una secuencia de datos u observaciones, medidos en determinados momentos y ordenados cronológicamente. Visualmente, es una curva que evoluciona en el tiempo.\n",
    "* Representar los datos del negocio como series de tiempo suele ayudar a las empresas a visualizar la actividad del negocio. A su vez, usualmente las series de tiempo se utilizan para predecir el comportamiento futuro de la variable medida.\n",
    "* El gráfico muestra los movimientos de la cotización de Facebook desde el 01/01/2020 hasta el 31/08/2021. La línea une los precios de cierre diarios, es decir,  se relaciona con el precio al que cierra un acción en una jornada o rueda de bolsa. \n",
    "* Conocer el precio de cierre es importante porque este es el precio con el que iniciará la siguiente subasta de apertura de la cotización de la acción.\n",
    "* La predicción de series de tiempo significa que se extienden los valores históricos de la serie al futuro, donde aún no se han hecho mediciones.\n",
    "* Para llevar a cabo el pronóstico se definen dos variables principales: cantidad de períodos y horizonte de predicción. La cantidad de períodos representa el nivel de agregación de los datos. El horizonte de planificación representa el número de períodos futuros o alcance a pronosticar.\n",
    "* Todo pronóstico tiene asociado un alcance, pudiendo ser de corto, mediano o largo plazo.\n",
    "* Típicamente los pronósticos de series de tiempo se usan para estimar demanda y así determinar niveles óptimos de inventario, producción, precio, como es el caso del ejemplo, entre otros."
   ]
  },
  {
   "cell_type": "markdown",
   "id": "e7d91303-04f8-408d-a34a-8b3da5cdfb14",
   "metadata": {},
   "source": [
    "*Fuente:https://finance.yahoo.com/quote/FB/history?p=FB"
   ]
  },
  {
   "cell_type": "code",
   "execution_count": null,
   "id": "ac7279c7-eb73-4ea6-bd69-6ad7cf5395e5",
   "metadata": {},
   "outputs": [],
   "source": []
  }
 ],
 "metadata": {
  "kernelspec": {
   "display_name": "Python 3",
   "language": "python",
   "name": "python3"
  },
  "language_info": {
   "codemirror_mode": {
    "name": "ipython",
    "version": 3
   },
   "file_extension": ".py",
   "mimetype": "text/x-python",
   "name": "python",
   "nbconvert_exporter": "python",
   "pygments_lexer": "ipython3",
   "version": "3.8.8"
  }
 },
 "nbformat": 4,
 "nbformat_minor": 5
}
